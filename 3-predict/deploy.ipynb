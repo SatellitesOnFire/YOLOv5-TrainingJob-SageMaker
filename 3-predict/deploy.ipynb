{
 "cells": [
  {
   "cell_type": "markdown",
   "id": "5ac05f07-1cda-487a-809f-5e4af6623dfb",
   "metadata": {},
   "source": [
    "## 1) Deps and sagemaker env\n",
    "\n",
    "First requirements :\n",
    "\n",
    "Make sure you have an AWS IAM Role capable of running SageMaker job, and having read/write access to the S3 buckets thats contains :\n",
    "\n",
    "  - yolo training model and inputs generated/used in the training job\n",
    "  - sagemaker training job name/id"
   ]
  },
  {
   "cell_type": "code",
   "execution_count": null,
   "id": "c1f19536-8f73-42b8-9cad-fce43245c27f",
   "metadata": {},
   "outputs": [],
   "source": [
    "import cv2\n",
    "import sagemaker\n",
    "import numpy as np\n",
    "import matplotlib.pyplot as plt\n",
    "from sagemaker import get_execution_role\n",
    "from sagemaker.utils import name_from_base\n",
    "from sagemaker.pytorch import PyTorchModel\n",
    "\n",
    "sagemaker_session = sagemaker.Session()\n",
    "\n",
    "# we are using the notebook instance role for training in this example\n",
    "role = 'AmazonSageMaker-ExecutionRole-<YOUR_IAM_EXECUTION_ROLE_ID>' \n",
    "\n",
    "# you can specify a bucket name here, we're using the default bucket of SageMaker\n",
    "bucket = sagemaker_session.default_bucket()\n",
    "\n",
    "latest_training_jobname = '<YOUR LATEST TRAINING JOB NAME/ID>'\n",
    "\n",
    "# Path of the trained model artefact (tar.gz archive made by SageMaker estimator, from Yolo output (weights folder))\n",
    "# This archive should contains the two trained model from Yolo : last.pt and best.pt\n",
    "model_artefact = f's3://{bucket}/visualsearch/training-inputs/results/{latest_jobname}/output/model.tar.gz'\n"
   ]
  },
  {
   "cell_type": "markdown",
   "id": "53f962c0-60c5-4a76-aab3-8cd960f0eea3",
   "metadata": {},
   "source": [
    "## 2) Build yolov5 runtime container. \n",
    "\n",
    "First we build our custom yolo v5 docker image, using this command from a bash terminal : \n",
    "\n",
    "    AWS_PROFILE=your-aws-profile-name ./build-and-push.sh visualsearch-yolov5l-runtime\n",
    "\n",
    "Then we retrieve the docker image id, to be use by the training job"
   ]
  },
  {
   "cell_type": "code",
   "execution_count": null,
   "id": "7f208c1b-7d9c-4224-88a7-2690ff81fb55",
   "metadata": {},
   "outputs": [],
   "source": [
    "with open (os.path.join('container', 'ecr_image_fullname.txt'), 'r') as f:\n",
    "    container = f.readlines()[0][:-1]\n",
    "\n",
    "print(container)"
   ]
  },
  {
   "cell_type": "markdown",
   "id": "58c5ce07-e574-4bba-a2b0-6eb8b179ee2e",
   "metadata": {},
   "source": [
    "## 3) Runtime model definition as PyTorch model (Yolo v5 is based on PyTorch)\n",
    "\n",
    "The local folder \"code\" will be embedded into this endpoint, to allow custom behavior of the container instance.\n",
    "\n",
    "In this case we use a custom python class (ModelHandler) as a singleton to load the model and to manage inference request with this loaded model (please review code/model_handler.py file). This class is made to be compatible with the SageMaker model_server interface (https://github.com/aws/sagemaker-inference-toolkit)"
   ]
  },
  {
   "cell_type": "code",
   "execution_count": null,
   "id": "044ac22f-0f08-42cc-957d-db31b3d5dab0",
   "metadata": {},
   "outputs": [],
   "source": [
    "# Create SageMaker model and deploy an endpoint\n",
    "model = PyTorchModel(\n",
    "    name=name_from_base('visualsearch-yolov5'),\n",
    "    model_data=model_artefact,\n",
    "    entry_point='dockerd-entrypoint.py',\n",
    "    role=role,\n",
    "    source_dir='code',\n",
    "    framework_version='1.5',\n",
    "    py_version='py3',\n",
    "    image_uri=container,\n",
    ")\n"
   ]
  },
  {
   "cell_type": "markdown",
   "id": "cf58d303-5421-4ddf-ac02-dd04eaf030d3",
   "metadata": {},
   "source": [
    "### 4) Endpoint creation\n",
    "\n",
    "The endpoint instance type can be customized depending on the desired hardware resource. \"local\" instance type allow you to test your endpoint locally (docker/docker-compose are required)"
   ]
  },
  {
   "cell_type": "code",
   "execution_count": null,
   "id": "7c06062a-1d96-421b-905c-2a34794e1875",
   "metadata": {},
   "outputs": [],
   "source": [
    "#predictor = model.deploy(initial_instance_count=1, instance_type='ml.m5.large')\n",
    "predictor = model.deploy(initial_instance_count=1, instance_type='ml.g4dn.xlarge')\n",
    "#predictor = model.deploy(initial_instance_count=1, instance_type='local')\n"
   ]
  },
  {
   "cell_type": "code",
   "execution_count": null,
   "id": "6345a611-5175-4fcb-b6c0-60dd6063ae48",
   "metadata": {},
   "outputs": [],
   "source": [
    "# Print the name of newly created endpoint\n",
    "print(predictor.endpoint_name) "
   ]
  },
  {
   "cell_type": "markdown",
   "id": "27ae3281-bb6d-44a7-b047-2832758ba57b",
   "metadata": {},
   "source": [
    "#### Local endpoint invoke with curl : \n",
    "\n",
    "    curl -v -X POST -F \"body=@/path/to/some-image.jpg\" http://localhost:8080/models/model/invoke\n",
    "\n",
    "#### Sagemaker endpoint remote invoke : \n",
    "\n",
    "(use the endpoint name printed out from the previous cell)\n",
    "\n",
    "    AWS_PROFILE=<your aws profile name> aws sagemaker-runtime invoke-endpoint --endpoint-name visualsearch-yolov5-xxxxxxxx --body fileb:///path/to/some-image.jpg --content-type multipart/form-data  >(cat)"
   ]
  },
  {
   "cell_type": "markdown",
   "id": "a9be8a80-d65b-4200-92ea-09c0d04eac00",
   "metadata": {},
   "source": [
    "### 5) Endpoint removal"
   ]
  },
  {
   "cell_type": "code",
   "execution_count": null,
   "id": "5820f52a-2b05-4358-964b-841cd0d6dc1a",
   "metadata": {},
   "outputs": [],
   "source": [
    "sagemaker.Session().delete_endpoint(predictor.endpoint_name)"
   ]
  },
  {
   "cell_type": "code",
   "execution_count": null,
   "id": "523bc455-ac76-4540-a8f0-13c545a7c603",
   "metadata": {},
   "outputs": [],
   "source": []
  }
 ],
 "metadata": {
  "kernelspec": {
   "display_name": "Python 3",
   "language": "python",
   "name": "python3"
  },
  "language_info": {
   "codemirror_mode": {
    "name": "ipython",
    "version": 3
   },
   "file_extension": ".py",
   "mimetype": "text/x-python",
   "name": "python",
   "nbconvert_exporter": "python",
   "pygments_lexer": "ipython3",
   "version": "3.9.5"
  }
 },
 "nbformat": 4,
 "nbformat_minor": 5
}
