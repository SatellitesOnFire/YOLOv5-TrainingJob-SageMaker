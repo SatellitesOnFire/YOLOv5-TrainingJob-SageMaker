{
 "cells": [
  {
   "cell_type": "code",
   "execution_count": null,
   "id": "4a42e5e0-1af4-442a-80ad-c5e09908ad28",
   "metadata": {},
   "outputs": [],
   "source": [
    "# Make sure these libraries are available within your python environement.\n",
    "# Uncomment the following lines to install the libraries\n",
    "!pip install --upgrade pip\n",
    "!pip install 'sagemaker>=2.42.0'\n",
    "!pip install jsonlines\n",
    "!pip install pillow\n",
    "!pip install matplotlib\n",
    "!pip install 'sagemaker[local]' --upgrade"
   ]
  },
  {
   "cell_type": "markdown",
   "id": "3345f981-edcf-4ec3-b80a-d7d2a54dce53",
   "metadata": {},
   "source": [
    "## 1) Deps and sagemaker env\n",
    "\n",
    "First requirements :\n",
    "\n",
    "Make sure you have an AWS IAM Role capable of running SageMaker job, and having read/write access to the S3 buckets thats contains :\n",
    "\n",
    "  - yolo pretraining model and inputs (see 3. below)\n",
    "  - data set images and labels\n",
    "  "
   ]
  },
  {
   "cell_type": "code",
   "execution_count": null,
   "id": "5f28f47c-9272-4064-bef9-aa0951781ce9",
   "metadata": {},
   "outputs": [],
   "source": [
    "import os\n",
    "from urllib.parse import urlparse\n",
    "import io\n",
    "import boto3\n",
    "import json\n",
    "import jsonlines\n",
    "import sagemaker\n",
    "import pandas as pd\n",
    "import numpy as np\n",
    "from PIL import Image\n",
    "from itertools import cycle, islice\n",
    "import matplotlib.pyplot as plt\n",
    "import matplotlib.patches as patches\n",
    "from sagemaker.estimator import Framework, Estimator\n",
    "from sagemaker.processing import Processor, ProcessingInput, ProcessingOutput\n",
    "\n",
    "sagemaker_session = sagemaker.Session()\n",
    "\n",
    "# we are using the notebook instance role for training in this example\n",
    "role = 'AmazonSageMaker-ExecutionRole-<YOUR_IAM_EXECUTION_ROLE_ID>' \n",
    "\n",
    "# you can specify a bucket name here, we're using the default bucket of SageMaker\n",
    "bucket = sagemaker_session.default_bucket()\n",
    "\n",
    "print(role)\n",
    "print(bucket)\n"
   ]
  },
  {
   "cell_type": "markdown",
   "id": "2a9dccee-9951-4ac9-b7a0-f529bad6e696",
   "metadata": {},
   "source": [
    "## 2) Download yolo model with pretrained weights\n",
    "\n",
    "In this example you can either use yolov5 small or large. But you can download other flavor from the yolov5 project, and adjust the training inputs accordingly"
   ]
  },
  {
   "cell_type": "code",
   "execution_count": null,
   "id": "b97478a6-9f37-4dea-ad93-75216de9e25b",
   "metadata": {},
   "outputs": [],
   "source": [
    "!wget https://github.com/ultralytics/yolov5/releases/download/v5.0/yolov5s.pt -O ./yolo-inputs/input/data/weights/yolov5s.pt\n",
    "!wget https://github.com/ultralytics/yolov5/releases/download/v5.0/yolov5l.pt -O ./yolo-inputs/input/data/weights/yolov5l.pt"
   ]
  },
  {
   "cell_type": "markdown",
   "id": "2a1a3820-7b58-4890-b803-58a03e8e6f73",
   "metadata": {},
   "source": [
    "## 3) Archive yolo configuration items and push them to S3\n",
    "\n",
    "### Job configuration \n",
    "\n",
    "in local folder 'yolo-inputs' :\n",
    "\n",
    "  - make sure that in input/data/weights you can find the preweighted model you want to use for the transfer learning\n",
    "  - make sure that in input/data/cfg you can find the yolo model configuration file related to the preweighted model you want to use. If not file are available here : https://github.com/ultralytics/yolov5/tree/master/models\n",
    "  - make sure that in input/data/cfg you can find the yolo model hyperparameter file. If not file are available here : https://github.com/ultralytics/yolov5/tree/master/data/hyps\n",
    "  - in input/data/cfg/train-args.json adjust the training job parameters (number of epochs, batch size, preweighted model name)\n",
    "  - in input/data/cfg/visualsearch.yaml adjust the number of object categories and their name (nc and names). train and val path must remain as they are : docker volume are mounted to these path.\n",
    "  \n",
    "### Job configuration input upload\n",
    "\n",
    "You now need to upload the content of 'yolo-input' into one of your S3, within a folder structure named 'visualsearch/training-inputs'\n",
    "\n"
   ]
  },
  {
   "cell_type": "markdown",
   "id": "958c997f-b99c-437d-a69a-03fc4c441dd6",
   "metadata": {},
   "source": [
    "## 4) Build yolov5 container. \n",
    "\n",
    "First we build our custom yolo v5 docker image, using this command from a bash terminal : \n",
    "\n",
    "    AWS_PROFILE=your-aws-profile-name ./build-and-push.sh visualsearch-yolov5l-train\n",
    "\n",
    "Then we retrieve the docker image id, to be use by the training job"
   ]
  },
  {
   "cell_type": "code",
   "execution_count": null,
   "id": "75f353df-05f8-402a-bdb8-694aee5aae2c",
   "metadata": {},
   "outputs": [],
   "source": [
    "with open (os.path.join('container', 'ecr_image_fullname.txt'), 'r') as f:\n",
    "    container = f.readlines()[0][:-1]\n",
    "\n",
    "print(container)"
   ]
  },
  {
   "cell_type": "markdown",
   "id": "91a5f59a-3424-44ac-a5c6-c3e73df66c9d",
   "metadata": {},
   "source": [
    "## 5) Training job configuration"
   ]
  },
  {
   "cell_type": "code",
   "execution_count": null,
   "id": "f33a55ee-794a-464b-94e4-0b47dddb2692",
   "metadata": {},
   "outputs": [],
   "source": [
    "s3_input = 's3://{}/visualsearch/training-inputs'.format(bucket)\n",
    "s3_images = \"s3://<YOUR DATA SET S3 BUCKET>/visualsearch/dataset\" # Images files are here, in a subfolder named 'train'\n",
    "s3_labels = \"s3://<YOUR DATA SET S3 BUCKET>/visualsearch/labels\" # Label files are here, in a subfolder named 'train'\n",
    "print(s3_input)\n",
    "print(s3_images)\n",
    "print(s3_labels)\n",
    "\n",
    "# cfg  images weights labels\n",
    "cfg='{}/input/data/cfg/'.format(s3_input)\n",
    "weights='{}/input/data/weights/'.format(s3_input)\n",
    "outpath='{}/results/'.format(s3_input)\n",
    "\n",
    "images='{}/'.format(s3_images)\n",
    "labels='{}/'.format(s3_labels)\n",
    "\n",
    "print(cfg)\n",
    "print(weights)\n",
    "print(outpath)\n",
    "\n",
    "print(images)\n",
    "print(labels)"
   ]
  },
  {
   "cell_type": "markdown",
   "id": "ad40b60b-e436-4fbe-a8cf-2871956ae40b",
   "metadata": {},
   "source": [
    "## 6) Run training job\n",
    "\n",
    "To test the training locally (require docker and docker-compose locally) you can set the 'instance_type' parameter to 'local', otherwise set a EC2 instance type name, to select the required resources (disk, CPU/GPU, Ram)\n"
   ]
  },
  {
   "cell_type": "code",
   "execution_count": null,
   "id": "e780377b-e8e6-466e-8580-f0efcc989f0f",
   "metadata": {},
   "outputs": [],
   "source": [
    "# Job configuration\n",
    "from sagemaker.session import TrainingInput\n",
    "\n",
    "inputs = {\n",
    "    \"cfg\": TrainingInput(cfg),\n",
    "    \"images\": TrainingInput(images),\n",
    "    \"weights\": TrainingInput(weights),\n",
    "    \"labels\": TrainingInput(labels),\n",
    "}\n",
    "\n",
    "estimator = Estimator(\n",
    "    image_uri=container,\n",
    "    role=role,\n",
    "    instance_count=1,\n",
    "    instance_type='ml.p3.2xlarge',\n",
    "    # instance_type='local',\n",
    "    input_mode='File',\n",
    "    output_path=outpath,\n",
    "    base_job_name='visualsearch-yolov5'\n",
    ")\n",
    "\n"
   ]
  },
  {
   "cell_type": "code",
   "execution_count": null,
   "id": "8e7ddf5d-d685-4d0c-80d6-6cb67e05c10c",
   "metadata": {},
   "outputs": [],
   "source": [
    "# To start the job\n",
    "estimator.fit(inputs)"
   ]
  },
  {
   "cell_type": "code",
   "execution_count": null,
   "id": "6fd5fd96-a66f-49d2-b577-441edd9fb762",
   "metadata": {},
   "outputs": [],
   "source": []
  }
 ],
 "metadata": {
  "kernelspec": {
   "display_name": "Python 3",
   "language": "python",
   "name": "python3"
  },
  "language_info": {
   "codemirror_mode": {
    "name": "ipython",
    "version": 3
   },
   "file_extension": ".py",
   "mimetype": "text/x-python",
   "name": "python",
   "nbconvert_exporter": "python",
   "pygments_lexer": "ipython3",
   "version": "3.9.5"
  }
 },
 "nbformat": 4,
 "nbformat_minor": 5
}
